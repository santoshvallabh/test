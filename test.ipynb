{
 "cells": [
  {
   "cell_type": "markdown",
   "id": "98833c68-b4f3-4a90-b8fd-4160366524d1",
   "metadata": {},
   "source": [
    "# checking out header"
   ]
  },
  {
   "cell_type": "markdown",
   "id": "eaacb28f-470e-424a-a5c3-544390884f03",
   "metadata": {},
   "source": [
    "here is a test of jupyter notebook\n"
   ]
  },
  {
   "cell_type": "code",
   "execution_count": 3,
   "id": "2e42008f-3f07-4833-a8ab-6a5abdd9e3b5",
   "metadata": {},
   "outputs": [],
   "source": [
    "from numpy import *"
   ]
  },
  {
   "cell_type": "code",
   "execution_count": 4,
   "id": "6f1418dc-aaa1-4c26-938d-eedbaa3aecf3",
   "metadata": {},
   "outputs": [
    {
     "data": {
      "text/plain": [
       "4"
      ]
     },
     "execution_count": 4,
     "metadata": {},
     "output_type": "execute_result"
    }
   ],
   "source": [
    "2+2"
   ]
  },
  {
   "cell_type": "code",
   "execution_count": 11,
   "id": "d9b6c759-1a9b-4356-a8f5-2593899feed0",
   "metadata": {},
   "outputs": [
    {
     "ename": "SyntaxError",
     "evalue": "invalid syntax (2442388806.py, line 3)",
     "output_type": "error",
     "traceback": [
      "\u001b[0;36m  Cell \u001b[0;32mIn[11], line 3\u001b[0;36m\u001b[0m\n\u001b[0;31m    sin{a}\u001b[0m\n\u001b[0m       ^\u001b[0m\n\u001b[0;31mSyntaxError\u001b[0m\u001b[0;31m:\u001b[0m invalid syntax\n"
     ]
    }
   ],
   "source": [
    "a = array({2.5,pi/3})\n",
    "\n",
    "sin"
   ]
  },
  {
   "cell_type": "code",
   "execution_count": null,
   "id": "59683040-0333-480e-b2c5-4e8258814427",
   "metadata": {},
   "outputs": [],
   "source": []
  }
 ],
 "metadata": {
  "kernelspec": {
   "display_name": "Python 3 (ipykernel)",
   "language": "python",
   "name": "python3"
  },
  "language_info": {
   "codemirror_mode": {
    "name": "ipython",
    "version": 3
   },
   "file_extension": ".py",
   "mimetype": "text/x-python",
   "name": "python",
   "nbconvert_exporter": "python",
   "pygments_lexer": "ipython3",
   "version": "3.10.8"
  }
 },
 "nbformat": 4,
 "nbformat_minor": 5
}
